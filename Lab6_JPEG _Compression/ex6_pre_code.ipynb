{
  "nbformat": 4,
  "nbformat_minor": 0,
  "metadata": {
    "colab": {
      "provenance": [],
      "authorship_tag": "ABX9TyMwOZYG/ODiVj2yAhR7QHED",
      "include_colab_link": true
    },
    "kernelspec": {
      "name": "python3",
      "display_name": "Python 3"
    },
    "language_info": {
      "name": "python"
    }
  },
  "cells": [
    {
      "cell_type": "markdown",
      "metadata": {
        "id": "view-in-github",
        "colab_type": "text"
      },
      "source": [
        "<a href=\"https://colab.research.google.com/github/naorJR/IP-Labs/blob/ortra/Lab%206/ex6_pre_code.ipynb\" target=\"_parent\"><img src=\"https://colab.research.google.com/assets/colab-badge.svg\" alt=\"Open In Colab\"/></a>"
      ]
    },
    {
      "cell_type": "code",
      "execution_count": 1,
      "metadata": {
        "colab": {
          "base_uri": "https://localhost:8080/"
        },
        "id": "BIVqp4Bppt7j",
        "outputId": "6093e4b9-64c3-4268-c2c1-6ba30f7a9ba1"
      },
      "outputs": [
        {
          "output_type": "stream",
          "name": "stdout",
          "text": [
            "Mounted at /content/drive\n"
          ]
        }
      ],
      "source": [
        "# 1. Mount to your drive by the left menu or by running this cell\n",
        "from google.colab import drive\n",
        "drive.mount('/content/drive')"
      ]
    },
    {
      "cell_type": "code",
      "source": [
        "# 2. Change Directory to file location in the drive\n",
        "%cd '/content/drive/My Drive/IP Labs/6'\n"
      ],
      "metadata": {
        "colab": {
          "base_uri": "https://localhost:8080/"
        },
        "id": "w35ODQgmpwAo",
        "outputId": "6d3d94e8-e91b-4899-ca00-3ccecc8bb0a0"
      },
      "execution_count": 2,
      "outputs": [
        {
          "output_type": "stream",
          "name": "stdout",
          "text": [
            "/content/drive/My Drive/IP Labs/6\n"
          ]
        }
      ]
    },
    {
      "cell_type": "code",
      "source": [
        "%matplotlib inline \n",
        "import numpy as np\n",
        "import cv2\n",
        "import matplotlib.pylab as plt\n",
        "from skimage import transform,io,color,img_as_ubyte\n",
        "from sklearn import cluster\n",
        "from skimage.transform import resize,rescale,rotate\n",
        "from sklearn.utils import shuffle\n",
        "from skimage.util import img_as_float32\n",
        "from numpy import fft\n",
        "from numpy import random\n",
        "from numpy.core.numeric import zeros_like\n",
        "from scipy.fftpack import dct\n",
        "from scipy.fft import fft"
      ],
      "metadata": {
        "id": "f3AOPdo2ijU9"
      },
      "execution_count": 87,
      "outputs": []
    },
    {
      "cell_type": "markdown",
      "source": [
        "# Preliminary Report - Question 3"
      ],
      "metadata": {
        "id": "pmeQ4t7OVgWS"
      }
    },
    {
      "cell_type": "code",
      "source": [
        "N = 16\n",
        "x = np.sort(np.random.rand(N))"
      ],
      "metadata": {
        "id": "ZvkrxdqM5koF"
      },
      "execution_count": 131,
      "outputs": []
    },
    {
      "cell_type": "code",
      "source": [
        "def my_dct(x):\n",
        "  N = len(x)\n",
        "\n",
        "  n, k = np.meshgrid(range(N), range(N))\n",
        "  arg = k*np.pi*(2*n+1)/(2*N)\n",
        "  cos_mat = np.cos(arg)\n",
        "  y = 2*x @ cos_mat.T\n",
        "  y[0] = y[0]/np.sqrt(4*N)\n",
        "  y[1:] = y[1:]/np.sqrt(2*N)\n",
        "\n",
        "  return y"
      ],
      "metadata": {
        "id": "rpGRWQaXbend"
      },
      "execution_count": 88,
      "outputs": []
    },
    {
      "cell_type": "code",
      "source": [
        "from scipy.fft import fft\n",
        "def my_dct_fft(x):\n",
        "\n",
        "  N = len(x)\n",
        "  x_pad = np.pad(x, (0, N)) # Pad the input signal with N zeros on the end\n",
        "  x_fft_pad = fft(x_pad)\n",
        "  x_fft = x_fft_pad[:N]\n",
        "  k = np.linspace(0,N-1,N)\n",
        "  arg=-(1j*np.pi*k)/(2*N)\n",
        "  y = 2 * np.real(np.exp(arg)*x_fft)\n",
        "  y[0] = y[0]/np.sqrt(4*N)\n",
        "  y[1:] = y[1:]/np.sqrt(2*N)\n",
        "  \n",
        "  return y"
      ],
      "metadata": {
        "id": "bxhYg1z1-GhL"
      },
      "execution_count": 172,
      "outputs": []
    },
    {
      "cell_type": "code",
      "source": [
        "A = my_dct(x)\n",
        "B = my_dct_fft(x)\n",
        "C = dct(x, norm='ortho')\n",
        "\n",
        "my_dct_err = np.mean(np.square(A-C))\n",
        "my_dct_fft_err = np.mean(np.square(B-C))\n",
        "\n",
        "print('       my_dct_err = {:.4}'.format(my_dct_err))\n",
        "print('       my_dct_fft_err = {:.4}\\n'.format(my_dct_fft_err))\n",
        "\n",
        "plt.figure()\n",
        "plt.plot(x,A, 'r', label='my_dct')\n",
        "plt.plot(x,B, 'm', label='my_dct_fft')\n",
        "plt.plot(x,C, 'k', label='scipy.fftpack.dct')\n",
        "plt.title('DCT Transformations')\n",
        "plt.xlabel('x[k]')\n",
        "plt.ylabel('X[k] - DCT')\n",
        "plt.legend()\n",
        "plt.show()"
      ],
      "metadata": {
        "id": "-mp44VUQW8-S",
        "colab": {
          "base_uri": "https://localhost:8080/",
          "height": 349
        },
        "outputId": "d35078ef-7a42-428f-f981-f67e1d342250"
      },
      "execution_count": 183,
      "outputs": [
        {
          "output_type": "stream",
          "name": "stdout",
          "text": [
            "       my_dct_err = 4.066e-31\n",
            "       my_dct_fft_err = 1.917e-32\n",
            "\n"
          ]
        },
        {
          "output_type": "display_data",
          "data": {
            "text/plain": [
              "<Figure size 432x288 with 1 Axes>"
            ],
            "image/png": "[encoded data removed]"
          },
          "metadata": {
            "needs_background": "light"
          }
        }
      ]
    },
    {
      "cell_type": "code",
      "source": [
        "D = np.array([[0, 1, 2, 3], [4, 5, 6, 7], [8, 9, 10, 11]])\n",
        "M,N = D.shape\n",
        "P = np.indices(D.shape)\n",
        "Pt = np.indices(D.T.shape)\n",
        "idx = P.reshape(2, -1).T\n",
        "idxT = Pt.reshape(2, -1).T\n"
      ],
      "metadata": {
        "colab": {
          "base_uri": "https://localhost:8080/",
          "height": 133
        },
        "id": "-v8Ie_lJHSA0",
        "outputId": "3b1b61de-dc59-4aca-c941-068605cf0be7"
      },
      "execution_count": 190,
      "outputs": [
        {
          "output_type": "error",
          "ename": "SyntaxError",
          "evalue": "ignored",
          "traceback": [
            "\u001b[0;36m  File \u001b[0;32m\"<ipython-input-190-a49a5e39c05f>\"\u001b[0;36m, line \u001b[0;32m6\u001b[0m\n\u001b[0;31m    for i in range(M)\u001b[0m\n\u001b[0m                     ^\u001b[0m\n\u001b[0;31mSyntaxError\u001b[0m\u001b[0;31m:\u001b[0m invalid syntax\n"
          ]
        }
      ]
    },
    {
      "cell_type": "code",
      "source": [
        "def zigzag(M,N):\n",
        "  x = np.arange(M*N).reshape(M,N)\n",
        "  order = np.concatenate([np.diagonal(x[::-1,:], i)[::(2*(i % 2)-1)] \n",
        "                          for i in range(1-x.shape[0], x.shape[0]+1)])\n",
        "  return order\n"
      ],
      "metadata": {
        "id": "NCQLU1p6JGL_"
      },
      "execution_count": 211,
      "outputs": []
    },
    {
      "cell_type": "code",
      "source": [
        "zigzag(3,4)"
      ],
      "metadata": {
        "colab": {
          "base_uri": "https://localhost:8080/"
        },
        "id": "0BGvGIkidYVZ",
        "outputId": "df220f3d-853d-4940-c5a0-5ca097fbd085"
      },
      "execution_count": 213,
      "outputs": [
        {
          "output_type": "execute_result",
          "data": {
            "text/plain": [
              "array([ 0,  4,  1,  2,  5,  8,  9,  6,  3,  7, 10, 11])"
            ]
          },
          "metadata": {},
          "execution_count": 213
        }
      ]
    },
    {
      "cell_type": "code",
      "source": [
        "zigzag(4,4)"
      ],
      "metadata": {
        "colab": {
          "base_uri": "https://localhost:8080/"
        },
        "id": "OX77xbrgfmdH",
        "outputId": "61c730d3-7520-4803-fd2d-ed0001a1ea43"
      },
      "execution_count": 214,
      "outputs": [
        {
          "output_type": "execute_result",
          "data": {
            "text/plain": [
              "array([ 0,  1,  4,  8,  5,  2,  3,  6,  9, 12, 13, 10,  7, 11, 14, 15])"
            ]
          },
          "metadata": {},
          "execution_count": 214
        }
      ]
    },
    {
      "cell_type": "code",
      "source": [
        "zigzag(8,8)"
      ],
      "metadata": {
        "colab": {
          "base_uri": "https://localhost:8080/"
        },
        "id": "qsp2VjrkyKKz",
        "outputId": "6dd5f8dc-f721-4b2d-edd8-36f13370f8e1"
      },
      "execution_count": 215,
      "outputs": [
        {
          "output_type": "execute_result",
          "data": {
            "text/plain": [
              "array([ 0,  1,  8, 16,  9,  2,  3, 10, 17, 24, 32, 25, 18, 11,  4,  5, 12,\n",
              "       19, 26, 33, 40, 48, 41, 34, 27, 20, 13,  6,  7, 14, 21, 28, 35, 42,\n",
              "       49, 56, 57, 50, 43, 36, 29, 22, 15, 23, 30, 37, 44, 51, 58, 59, 52,\n",
              "       45, 38, 31, 39, 46, 53, 60, 61, 54, 47, 55, 62, 63])"
            ]
          },
          "metadata": {},
          "execution_count": 215
        }
      ]
    },
    {
      "cell_type": "code",
      "source": [
        "zigzag(16,16)"
      ],
      "metadata": {
        "colab": {
          "base_uri": "https://localhost:8080/"
        },
        "id": "yuVku4z8yNOI",
        "outputId": "5883c032-8f77-4c8d-efdf-b1acf1b1bd65"
      },
      "execution_count": 216,
      "outputs": [
        {
          "output_type": "execute_result",
          "data": {
            "text/plain": [
              "array([  0,   1,  16,  32,  17,   2,   3,  18,  33,  48,  64,  49,  34,\n",
              "        19,   4,   5,  20,  35,  50,  65,  80,  96,  81,  66,  51,  36,\n",
              "        21,   6,   7,  22,  37,  52,  67,  82,  97, 112, 128, 113,  98,\n",
              "        83,  68,  53,  38,  23,   8,   9,  24,  39,  54,  69,  84,  99,\n",
              "       114, 129, 144, 160, 145, 130, 115, 100,  85,  70,  55,  40,  25,\n",
              "        10,  11,  26,  41,  56,  71,  86, 101, 116, 131, 146, 161, 176,\n",
              "       192, 177, 162, 147, 132, 117, 102,  87,  72,  57,  42,  27,  12,\n",
              "        13,  28,  43,  58,  73,  88, 103, 118, 133, 148, 163, 178, 193,\n",
              "       208, 224, 209, 194, 179, 164, 149, 134, 119, 104,  89,  74,  59,\n",
              "        44,  29,  14,  15,  30,  45,  60,  75,  90, 105, 120, 135, 150,\n",
              "       165, 180, 195, 210, 225, 240, 241, 226, 211, 196, 181, 166, 151,\n",
              "       136, 121, 106,  91,  76,  61,  46,  31,  47,  62,  77,  92, 107,\n",
              "       122, 137, 152, 167, 182, 197, 212, 227, 242, 243, 228, 213, 198,\n",
              "       183, 168, 153, 138, 123, 108,  93,  78,  63,  79,  94, 109, 124,\n",
              "       139, 154, 169, 184, 199, 214, 229, 244, 245, 230, 215, 200, 185,\n",
              "       170, 155, 140, 125, 110,  95, 111, 126, 141, 156, 171, 186, 201,\n",
              "       216, 231, 246, 247, 232, 217, 202, 187, 172, 157, 142, 127, 143,\n",
              "       158, 173, 188, 203, 218, 233, 248, 249, 234, 219, 204, 189, 174,\n",
              "       159, 175, 190, 205, 220, 235, 250, 251, 236, 221, 206, 191, 207,\n",
              "       222, 237, 252, 253, 238, 223, 239, 254, 255])"
            ]
          },
          "metadata": {},
          "execution_count": 216
        }
      ]
    },
    {
      "cell_type": "code",
      "source": [],
      "metadata": {
        "id": "yDHXp6F2yQDT"
      },
      "execution_count": null,
      "outputs": []
    }
  ]
}